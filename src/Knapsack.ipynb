{
 "cells": [
  {
   "cell_type": "markdown",
   "metadata": {
    "collapsed": false
   },
   "source": [
    "# <span style=\"color:#1F618D;\">The Knapsack Problem (A Greedy Approach)</span>\n",
    "\n",
    "\n",
    "Author: <a href=\"https://github.com/Blaise143\" >Blaise Appolinary</a>\n",
    "\n",
    "\n",
    "If you prefer viewing this directly from github, [click here](https://github.com/Blaise143/Knapsack-Optimization/blob/main/Knapsack.ipynb)\n",
    "\n",
    "___\n",
    "\n",
    "<a id=\"table-of-contents\"></a>\n",
    "# **<span style=\"color:#1F618D;\">Contents </span>**\n",
    "- [1. A Summary Of The Knapsack Problem](#1)\n",
    "- [2. Greedy Algorithm Implementation](#2)\n",
    "- [3. How The Implementation Work](#3)\n",
    "- [4. Testing The Algorithm On WebScraped Problems](#4)\n",
    "___\n",
    "\n",
    "<a id=\"1\"></a>\n",
    "### <span style=\"color:#1F618D;\">Summary of the Knapsack problem</span>\n",
    "The knapsack problem can be summarized as follows:\n",
    "\n",
    "Suppose Blaise had $n$ items namely $x_1, x_2, x_3 ... x_n$. Each of these items had weight $w_i$ and value $v_i$ for $i \\in I$ and $i \\in [1,n]$. Supposed there was a knapsack bag with capacity $K$ (in weight). How would he choose which items to place in the bag while maximizing the value in the bag without surpassing the capacity?\n",
    "\n",
    "\n",
    "Note that :\n",
    "$$\\left\\{\n",
    "\\begin{array}{ll}\n",
    "      x_i = 0 & \\text{if item $i$ is not picked} \\\\\n",
    "      x_i = 1 & \\text{if item $i$ is picked}\n",
    "\\end{array}\n",
    "\\right.  $$\n",
    "\n",
    "A mathematical representation of this problem looks like:\n",
    "\n",
    " $$max\\sum_{i=1}^{n} v_i x_i$$\n",
    " $$st\\sum_{i=1}^{n} w_i x_i \\leq K$$\n",
    " $$x_i \\in \\{0,1\\}, i \\in I$$\n",
    "\n",
    "There are several approaches to tackle this kind of problem. Some approaches include:\n",
    "- Greedy Algorithms (several)\n",
    "- Local Search\n",
    "- Dynamic Programming\n",
    "- Genetic Algorithm\n",
    "\n",
    "In this notebook, I will explain and implement a greedy algorithm to solving this problem.\n",
    "\n",
    "___\n",
    "\n",
    "<a id=\"2\"></a>\n",
    "### <span style=\"color:#1F618D;\">Greedy Algorithm Implementation</span>\n",
    "One way to tackle the knapsack problem is by using a greedy approach. The key idea in the greedy approach is picking one item at a time in a greedy fashion. There are many variations of a greedy approach. In this notebook, I will tackle and implement these approaches of the greedy algorithm.\n",
    "1. Pick the elements with the highest value first until knapsack is full\n",
    "2. Pick the elements with the lowest value until knapsack is full (seems like a silly approach)\n",
    "3. Pick the elements with the highest weight until knapsack is full\n",
    "4. Pick the elements with the lowest weight until knapsack is full\n",
    "\n",
    "In the code cell below, I have implemented a class that solves the Knapsack problem in this approach"
   ]
  },
  {
   "cell_type": "code",
   "execution_count": 10,
   "metadata": {
    "collapsed": false
   },
   "outputs": [],
   "source": [
    "class Greedy:\n",
    "    \"\"\"\n",
    "    A python class for the greedy algorithm\n",
    "    \"\"\"\n",
    "    def __init__(self, items: list, capacity: int, by=\"value\", criterion=None) -> None:\n",
    "        \"\"\"\n",
    "        A class of the greedy algorithm\n",
    "        :param items: a list of tuples (value, weight)\n",
    "        :param capacity: The maximum weight allowed in a bag\n",
    "        :param by: one of (value or weight)\n",
    "        :param criterion: Optional parameter.\n",
    "        \"\"\"\n",
    "        self._items = items\n",
    "        self._capacity = capacity\n",
    "        self.criterion = criterion\n",
    "        self.by = by\n",
    "\n",
    "        assert by in [\"value\", \"weight\"], \"Arguments for by should be one of [value, weight]\"\n",
    "        if criterion is not None:\n",
    "            assert criterion in [\"small first\", \"large first\"], \"Criterion should be one of [small first, large first]\"\n",
    "\n",
    "            if by == \"value\":\n",
    "                if criterion == \"small first\":\n",
    "                    self._items.sort(reverse = False, key = lambda t: t[0])\n",
    "                else:\n",
    "                    self._items.sort(reverse = True, key = lambda t: t[0])\n",
    "            else:\n",
    "                if criterion == \"large first\":\n",
    "                    self._items.sort(reverse = True, key = lambda t: t[1])\n",
    "                else:\n",
    "                    self._items.sort(reverse = False, key = lambda t: t[1])\n",
    "\n",
    "\n",
    "    def __repr__(self) -> str:\n",
    "        \"\"\"\n",
    "        A representation of the class\n",
    "        :return:\n",
    "        \"\"\"\n",
    "        return f\"Items: {self.items()}\"\n",
    "\n",
    "    def __len__(self):\n",
    "        \"\"\"\n",
    "        :return: The number of items in the problem\n",
    "        \"\"\"\n",
    "        return len(self.items())\n",
    "\n",
    "    def capacity(self) -> int:\n",
    "        \"\"\"\n",
    "        :return: The capacity of the knapsack\n",
    "        \"\"\"\n",
    "        return self._capacity\n",
    "\n",
    "    def solve(self) -> dict:\n",
    "        \"\"\"\n",
    "        Provides a solution to the problem using the greedy approach\n",
    "        :return: a dictionary of the solution\n",
    "        \"\"\"\n",
    "        accumulator = 0 # To hold the current weight in the knapsack\n",
    "        selected = [] # To hold the items selected by the greedy algorithm\n",
    "\n",
    "        for item in self.items():\n",
    "            if accumulator <= self.capacity() and accumulator+item[1] <= self.capacity():\n",
    "                selected.append(item)\n",
    "                accumulator += item[1]\n",
    "            else:\n",
    "                pass\n",
    "\n",
    "        total_value = 0\n",
    "\n",
    "        for item_ in selected:\n",
    "            total_value += item_[0]\n",
    "\n",
    "\n",
    "        solution = {\n",
    "            \"Optimal Value\": total_value,\n",
    "            \"Selected Items\": selected\n",
    "        }\n",
    "\n",
    "        return solution\n",
    "\n",
    "\n",
    "    def items(self) -> list:\n",
    "        \"\"\"\n",
    "        :return: The list of tuples of items in the problem\n",
    "        \"\"\"\n",
    "        return self._items"
   ]
  },
  {
   "cell_type": "markdown",
   "metadata": {
    "collapsed": false
   },
   "source": [
    "<a id=\"3\"></a>\n",
    "### <span style=\"color:#1F618D;\">How this Implementation work</span>\n",
    "To explain how this Implementation work, I will formulate the following problem:\n",
    "\n",
    "___\n",
    "### **Problem**\n",
    "Suppose there were items $x_1=(1,2), x_2=(1,2), x_3=(1,2), x_4 = (10,5), x_5 = (10,5), x_6=(13, 8), x_7=(7,3)$ where each $x_i=(v, w)$ for $i \\in [1,2..7]$, $v$ denotes the value and $w$ denotes the weight of item. Suppose the capacity was of the knapsack was $10$ in weight.\n",
    "\n",
    "To solve this with the greedy algorithm implemented, we can try four different kinds of the greedy approach and choose the one with the highest value.\n",
    "\n",
    "___\n",
    "\n",
    "**First Approach** : Pick the elements with the highest value until the knapsack is full.\n",
    "To do this, we will :\n",
    "- pass the list of items into the `items` argument\n",
    "- pass $10$ into the capacity argument of our class instantiation\n",
    "- pass by=\"value\" to indicate that the criterion will be performed on the value\n",
    "- pass criterion=\"large first\" to indicate that you are picking the items with the largest values first until knapsack is full.\n",
    "\n",
    "The code cell below performs this approach and returns the solution when the method `solve()` is called."
   ]
  },
  {
   "cell_type": "code",
   "execution_count": 11,
   "metadata": {
    "collapsed": false
   },
   "outputs": [
    {
     "data": {
      "text/plain": [
       "{'Optimal Value': 14, 'Selected Items': [(13, 8), (1, 2)]}"
      ]
     },
     "execution_count": 11,
     "metadata": {},
     "output_type": "execute_result"
    }
   ],
   "source": [
    "problem = Greedy(items=[(1,2), (1,2), (1,2), (10, 5), (10, 5), (13, 8), (7,3)], capacity=10, by=\"value\", criterion=\"large first\")\n",
    "problem.solve()"
   ]
  },
  {
   "cell_type": "markdown",
   "metadata": {
    "collapsed": false
   },
   "source": [
    "___\n",
    "\n",
    "**Second Approach** : Pick the elements with the lowest value until the knapsack is full. (This intuitively seems like a bad idea but let us try anyways)\n",
    "To do this, we will :\n",
    "- pass the list of items into the `items` argument\n",
    "- pass $10$ into the capacity argument of our class instantiation\n",
    "- pass `by=\"value\"` to indicate that the criterion will be performed on the value\n",
    "- pass `criterion=\"small first\"` to indicate that you are picking the smallest value first at a time until knapsack is full\n",
    "\n",
    "The code cell below performs this approach and returns the solution when the method `solve()` is called."
   ]
  },
  {
   "cell_type": "code",
   "execution_count": 12,
   "metadata": {
    "collapsed": false
   },
   "outputs": [
    {
     "data": {
      "text/plain": [
       "{'Optimal Value': 10, 'Selected Items': [(1, 2), (1, 2), (1, 2), (7, 3)]}"
      ]
     },
     "execution_count": 12,
     "metadata": {},
     "output_type": "execute_result"
    }
   ],
   "source": [
    "problem = Greedy(items=[(1,2), (1,2), (1,2), (10, 5), (10, 5), (13, 8), (7,3)], capacity=10, by=\"value\", criterion=\"small first\")\n",
    "problem.solve()"
   ]
  },
  {
   "cell_type": "markdown",
   "metadata": {
    "collapsed": false
   },
   "source": [
    "___\n",
    "\n",
    "**Third Approach** : Pick the elements with the highest weight until the knapsack is full.\n",
    "To do this, we will :\n",
    "- pass the list of items into the `items` argument\n",
    "- pass $10$ into the capacity argument of our class instantiation\n",
    "- pass `by=\"weight\"` to indicate that the criterion will be performed on the weight\n",
    "- pass `criterion=\"large first\"` to indicate that you are picking the item with the largest weight first at a time until knapsack is full\n",
    "\n",
    "The code cell below performs this approach and returns the solution when the method `solve()` is called."
   ]
  },
  {
   "cell_type": "code",
   "execution_count": 13,
   "metadata": {
    "collapsed": false
   },
   "outputs": [
    {
     "data": {
      "text/plain": [
       "{'Optimal Value': 14, 'Selected Items': [(13, 8), (1, 2)]}"
      ]
     },
     "execution_count": 13,
     "metadata": {},
     "output_type": "execute_result"
    }
   ],
   "source": [
    "problem = Greedy(items=[(1,2), (1,2), (1,2), (10, 5), (10, 5), (13, 8), (7,3)], capacity=10, by=\"weight\", criterion=\"large first\")\n",
    "problem.solve()"
   ]
  },
  {
   "cell_type": "markdown",
   "metadata": {
    "collapsed": false
   },
   "source": [
    "___\n",
    "**Fourth Approach** : Pick the elements with the lowest weight until the knapsack is full.\n",
    "To do this, we will :\n",
    "- pass the list of items into the `items` argument\n",
    "- pass $10$ into the capacity argument of our class instantiation\n",
    "- pass `by=\"weight\"` to indicate that the criterion will be performed on the weight\n",
    "- pass `criterion=\"small first\"` to indicate that you are picking the item with the smallest weight first at a time until knapsack is full\n",
    "\n",
    "The code cell below performs this approach and returns the solution when the method `solve()` is called."
   ]
  },
  {
   "cell_type": "code",
   "execution_count": 14,
   "metadata": {
    "collapsed": false
   },
   "outputs": [
    {
     "data": {
      "text/plain": [
       "{'Optimal Value': 10, 'Selected Items': [(1, 2), (1, 2), (1, 2), (7, 3)]}"
      ]
     },
     "execution_count": 14,
     "metadata": {},
     "output_type": "execute_result"
    }
   ],
   "source": [
    "problem = Greedy(items=[(1,2), (1,2), (1,2), (10, 5), (10, 5), (13, 8), (7,3)], capacity=10, by=\"weight\", criterion=\"small first\")\n",
    "problem.solve()"
   ]
  },
  {
   "cell_type": "markdown",
   "metadata": {
    "collapsed": false
   },
   "source": [
    "\n",
    "**From These Approaches, we see that the first and the third approaches give us the best results with an optimal value of $14$**\n",
    "***\n",
    "<a id=\"4\"></a>\n",
    "### <span style=\"color:#1F618D;\">Trying The Algorithm On Real Data</span>\n",
    "\n",
    "Having Implemented The algorithm using a greedy approach, Let us try it on some real world data.\n",
    "I wrote a script in the `problems.py` file (In the same directory as this notebook) that scraped knapsack problems from [This WebSite](https://people.sc.fsu.edu/~jburkardt/datasets/knapsack_01/knapsack_01.html). The website contains 8 knapsack problems and their corresponding optimal solutions. I will try solving the problems using the algorithm and see whether the greedy approaches I implemented are able to give me actual optimal solutions.\n",
    "\n",
    "The code cell below imports the scraped problems in the `problems.py` file and calculates the optimal value given the optimal solution as a vector."
   ]
  },
  {
   "cell_type": "code",
   "execution_count": 15,
   "metadata": {
    "collapsed": false
   },
   "outputs": [],
   "source": [
    "from problems import problems\n",
    "import numpy as np\n",
    "for problem in problems:\n",
    "    problem[\"Optimal Value\"] = np.dot(problem[\"optimal\"], problem[\"profits\"])\n",
    "    problem[\"items\"] = list(zip(problem[\"profits\"], problem[\"weights\"]))"
   ]
  },
  {
   "cell_type": "markdown",
   "metadata": {
    "collapsed": false
   },
   "source": [
    "***\n",
    "In order to have a good comparison, I will first write a function that , given the problem, it tries the 4 approaches and returns the optimal value from the best approach of the 4. The code cell below does that."
   ]
  },
  {
   "cell_type": "code",
   "execution_count": 16,
   "metadata": {
    "collapsed": false
   },
   "outputs": [],
   "source": [
    "def knapsack(items: list, capacity: int) -> int:\n",
    "    \"\"\"\n",
    "    Solve the knapsack problem using the 4 different approaches discussed earlier, return the best solution\n",
    "    :param items: a list of tuples\n",
    "    :param capacity: the capacity of the knapsack bag\n",
    "    :return: The best solution found by the algorithm.\n",
    "    \"\"\"\n",
    "    first_approach = Greedy(items=items, capacity= capacity, by=\"value\", criterion=\"large first\").solve()[\"Optimal Value\"]\n",
    "    sec_approach = Greedy(items, capacity, by=\"value\", criterion=\"small first\").solve()[\"Optimal Value\"]\n",
    "    third_approach = Greedy(items, capacity, by=\"weight\", criterion=\"large first\").solve()[\"Optimal Value\"]\n",
    "    fourth_approach = Greedy(items, capacity, by=\"weight\", criterion=\"small first\").solve()[\"Optimal Value\"]\n",
    "\n",
    "    return max(first_approach, sec_approach, third_approach, fourth_approach)"
   ]
  },
  {
   "cell_type": "markdown",
   "metadata": {
    "collapsed": false
   },
   "source": [
    "***\n",
    "Having written the function, it is time to check if our greedy approaches are able to get the optimal values.\n",
    "The code cell below calculates the greedy approach solution and compares it with the actual solution of the knapsack problem. It renders it in form of a dataframe."
   ]
  },
  {
   "cell_type": "code",
   "execution_count": 17,
   "metadata": {
    "collapsed": false
   },
   "outputs": [
    {
     "data": {
      "text/html": [
       "<div>\n",
       "<style scoped>\n",
       "    .dataframe tbody tr th:only-of-type {\n",
       "        vertical-align: middle;\n",
       "    }\n",
       "\n",
       "    .dataframe tbody tr th {\n",
       "        vertical-align: top;\n",
       "    }\n",
       "\n",
       "    .dataframe thead th {\n",
       "        text-align: right;\n",
       "    }\n",
       "</style>\n",
       "<table border=\"1\" class=\"dataframe\">\n",
       "  <thead>\n",
       "    <tr style=\"text-align: right;\">\n",
       "      <th></th>\n",
       "      <th>Greedy Solution</th>\n",
       "      <th>Actual Optimal Solution</th>\n",
       "    </tr>\n",
       "  </thead>\n",
       "  <tbody>\n",
       "    <tr>\n",
       "      <th>0</th>\n",
       "      <td>309</td>\n",
       "      <td>309</td>\n",
       "    </tr>\n",
       "    <tr>\n",
       "      <th>1</th>\n",
       "      <td>47</td>\n",
       "      <td>51</td>\n",
       "    </tr>\n",
       "    <tr>\n",
       "      <th>2</th>\n",
       "      <td>119</td>\n",
       "      <td>150</td>\n",
       "    </tr>\n",
       "    <tr>\n",
       "      <th>3</th>\n",
       "      <td>107</td>\n",
       "      <td>107</td>\n",
       "    </tr>\n",
       "    <tr>\n",
       "      <th>4</th>\n",
       "      <td>888</td>\n",
       "      <td>900</td>\n",
       "    </tr>\n",
       "    <tr>\n",
       "      <th>5</th>\n",
       "      <td>1735</td>\n",
       "      <td>1735</td>\n",
       "    </tr>\n",
       "    <tr>\n",
       "      <th>6</th>\n",
       "      <td>1315</td>\n",
       "      <td>1458</td>\n",
       "    </tr>\n",
       "    <tr>\n",
       "      <th>7</th>\n",
       "      <td>13141140</td>\n",
       "      <td>13549094</td>\n",
       "    </tr>\n",
       "  </tbody>\n",
       "</table>\n",
       "</div>"
      ],
      "text/plain": [
       "   Greedy Solution  Actual Optimal Solution\n",
       "0              309                      309\n",
       "1               47                       51\n",
       "2              119                      150\n",
       "3              107                      107\n",
       "4              888                      900\n",
       "5             1735                     1735\n",
       "6             1315                     1458\n",
       "7         13141140                 13549094"
      ]
     },
     "execution_count": 17,
     "metadata": {},
     "output_type": "execute_result"
    }
   ],
   "source": [
    "import pandas as pd\n",
    "solutions = []\n",
    "for problem in problems:\n",
    "    greedy_solution = knapsack(problem[\"items\"], problem[\"capacity\"])\n",
    "    solutions.append([greedy_solution, problem[\"Optimal Value\"]])\n",
    "pd.DataFrame(solutions, columns=[\"Greedy Solution\", \"Actual Optimal Solution\"])"
   ]
  },
  {
   "cell_type": "markdown",
   "metadata": {
    "collapsed": false
   },
   "source": [
    "From the results above, we see that, despite getting great results with our greedy approach, it is able to get the actual optimal value of only 3 of the 8 problems from the website.\n",
    "\n",
    "That is a disadvantage of greedy approaches, they do not guarantee optimality. Perhaps using other methods such as `Genetic Algorithms` would help us obtain more optimals solutions.\n",
    "\n",
    "In my other artifact I tackled this same problem using a genetic algorithm and it was able to provide much better results.\n",
    "\n",
    "**Thank You For Checking Out This Notebook**"
   ]
  }
 ],
 "metadata": {
  "kernelspec": {
   "display_name": "Python 3",
   "language": "python",
   "name": "python3"
  },
  "language_info": {
   "codemirror_mode": {
    "name": "ipython",
    "version": 3
   },
   "file_extension": ".py",
   "mimetype": "text/x-python",
   "name": "python",
   "nbconvert_exporter": "python",
   "pygments_lexer": "ipython3",
   "version": "3.10.9"
  }
 },
 "nbformat": 4,
 "nbformat_minor": 0
}
